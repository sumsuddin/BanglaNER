{
 "cells": [
  {
   "attachments": {},
   "cell_type": "markdown",
   "metadata": {},
   "source": [
    "## Bangla NER"
   ]
  },
  {
   "cell_type": "code",
   "execution_count": null,
   "metadata": {},
   "outputs": [],
   "source": [
    "%cd ../"
   ]
  },
  {
   "cell_type": "code",
   "execution_count": null,
   "metadata": {},
   "outputs": [],
   "source": [
    "!make sync_data"
   ]
  },
  {
   "cell_type": "code",
   "execution_count": null,
   "metadata": {},
   "outputs": [],
   "source": [
    "!make dataset"
   ]
  },
  {
   "cell_type": "code",
   "execution_count": null,
   "metadata": {},
   "outputs": [],
   "source": [
    "!make train_model"
   ]
  },
  {
   "cell_type": "code",
   "execution_count": null,
   "metadata": {},
   "outputs": [],
   "source": [
    "#!make test_model"
   ]
  },
  {
   "cell_type": "code",
   "execution_count": null,
   "metadata": {},
   "outputs": [],
   "source": [
    "!make visualize"
   ]
  },
  {
   "cell_type": "code",
   "execution_count": null,
   "metadata": {},
   "outputs": [],
   "source": [
    "from src.data.make_dataset import read_dataset\n",
    "from src.data.make_dataset import count_tags\n",
    "\n",
    "\n",
    "dataset = read_dataset(\"data/raw/\")\n",
    "tag_counts = count_tags(dataset)\n",
    "\n",
    "print(tag_counts)"
   ]
  },
  {
   "cell_type": "markdown",
   "metadata": {},
   "source": [
    "## Run some test cases on CRF model"
   ]
  },
  {
   "cell_type": "code",
   "execution_count": null,
   "metadata": {},
   "outputs": [],
   "source": [
    "from bnlp import NER\n",
    "bn_ner = NER()\n",
    "model_path = \"models/ner_model_trained.pkl\""
   ]
  },
  {
   "cell_type": "code",
   "execution_count": null,
   "metadata": {},
   "outputs": [],
   "source": [
    "text = \"আব্দুর রহিম নামের কাস্টমারকে একশ টাকা বাকি দিলাম|\"\n",
    "text = \"ধসের খবর পেয়ে রেলওয়ের প্রধান প্রকৌশলী এ কে এম মাহবুবুল আলম, ঢাকা-চট্টগ্রাম রেললাইন পুনর্নির্মাণ প্রকল্পের মহাব্যবস্থাপক এস কে চক্রবর্তী, রেলওয়ের ঢাকা বিভাগীয় প্রকৌশলী-১ আরমান হোসেনসহ ঊর্ধ্বতন কর্মকর্তারা ঘটনাস্থল পরিদর্শন করে সংস্কারকাজ শুরু করেন।\"\n",
    "result = bn_ner.tag(model_path, text)\n",
    "print(result)"
   ]
  },
  {
   "cell_type": "code",
   "execution_count": null,
   "metadata": {},
   "outputs": [],
   "source": []
  }
 ],
 "metadata": {
  "kernelspec": {
   "display_name": "tnchat_ai",
   "language": "python",
   "name": "python3"
  },
  "language_info": {
   "codemirror_mode": {
    "name": "ipython",
    "version": 3
   },
   "file_extension": ".py",
   "mimetype": "text/x-python",
   "name": "python",
   "nbconvert_exporter": "python",
   "pygments_lexer": "ipython3",
   "version": "3.10.9"
  },
  "orig_nbformat": 4
 },
 "nbformat": 4,
 "nbformat_minor": 2
}
